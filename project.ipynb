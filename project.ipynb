{
 "cells": [
  {
   "cell_type": "markdown",
   "metadata": {},
   "source": [
    "#### Импорты"
   ]
  },
  {
   "cell_type": "code",
   "execution_count": 2,
   "metadata": {},
   "outputs": [],
   "source": [
    "import os\n",
    "import numpy as np\n",
    "import matplotlib.pyplot as plt\n",
    "import datetime"
   ]
  },
  {
   "cell_type": "markdown",
   "metadata": {},
   "source": [
    "#### Код"
   ]
  },
  {
   "cell_type": "code",
   "execution_count": 3,
   "metadata": {},
   "outputs": [
    {
     "name": "stdout",
     "output_type": "stream",
     "text": [
      "A_time_30_04_2021.txt\n",
      "A_time_05_06_2021.txt\n",
      "2\n"
     ]
    }
   ],
   "source": [
    "data_path = os.path.join(\"Данные для обработки\", \"Data\")\n",
    "files = os.listdir(data_path)\n",
    "lines = []\n",
    "count = 0\n",
    "for file in files:\n",
    "    f = open(os.path.join(data_path, file))\n",
    "    try:\n",
    "        if \"Alarm\" not in file:\n",
    "            lines.append([[float(el) if \":\" not in el else el for el in line.split()] for line in f.readlines()[1:]])\n",
    "            lines[-1].insert(0, file)\n",
    "    except Exception as err:\n",
    "        print(file)\n",
    "        count += 1\n",
    "print(count)\n",
    "# Time\tCh1 U_main(V)\tCh1 U(V)\tCh1 I(A)\tCh3 U_main(V)\tCh3 U(V)\tCh3 I(A)\n",
    "# Time\tvalue_on_device_(l/h)_CO2\tvalue_in_program_(l/h)_CO2\tGas_consumption_(l/h)_CO2\tTemperature_(C)_CO2\tvalue_on_device_(l/h)_Ar\tvalue_in_program_(l/h)_Ar\tGas_consumption_(l/h)_Ar\tTemperature_(C)_Ar_C"
   ]
  },
  {
   "cell_type": "code",
   "execution_count": 1,
   "metadata": {},
   "outputs": [
    {
     "ename": "NameError",
     "evalue": "name 'lines' is not defined",
     "output_type": "error",
     "traceback": [
      "\u001b[0;31m---------------------------------------------------------------------------\u001b[0m",
      "\u001b[0;31mNameError\u001b[0m                                 Traceback (most recent call last)",
      "Cell \u001b[0;32mIn[1], line 1\u001b[0m\n\u001b[0;32m----> 1\u001b[0m \u001b[38;5;28;01mfor\u001b[39;00m i \u001b[38;5;129;01min\u001b[39;00m \u001b[38;5;28mrange\u001b[39m(\u001b[38;5;28mlen\u001b[39m(\u001b[43mlines\u001b[49m)):\n\u001b[1;32m      2\u001b[0m     x \u001b[38;5;241m=\u001b[39m []\n\u001b[1;32m      3\u001b[0m     y \u001b[38;5;241m=\u001b[39m []\n",
      "\u001b[0;31mNameError\u001b[0m: name 'lines' is not defined"
     ]
    }
   ],
   "source": [
    "for i in range(len(lines)):\n",
    "    x = []\n",
    "    y = []\n",
    "    for line in lines[i]:\n",
    "        try:\n",
    "            x.append(datetime.datetime.strptime(line[0], \"%H:%M:%S\"))\n",
    "            y.append(line[3])\n",
    "        except:\n",
    "            pass\n",
    "    plt.title(lines[i][0].replace(\"Data_time_\", \"\").replace(\".txt\", \"\").replace(\"_\", \".\"))\n",
    "    plt.xlabel(\"time\")\n",
    "    plt.xticks(rotation=90)\n",
    "    plt.ylabel(\"gas level\")\n",
    "    plt.plot(x, y)\n",
    "    plt.show()"
   ]
  }
 ],
 "metadata": {
  "kernelspec": {
   "display_name": "myenv",
   "language": "python",
   "name": "python3"
  },
  "language_info": {
   "codemirror_mode": {
    "name": "ipython",
    "version": 3
   },
   "file_extension": ".py",
   "mimetype": "text/x-python",
   "name": "python",
   "nbconvert_exporter": "python",
   "pygments_lexer": "ipython3",
   "version": "3.9.18"
  }
 },
 "nbformat": 4,
 "nbformat_minor": 2
}
